{
 "cells": [
  {
   "cell_type": "markdown",
   "id": "8e43a5d7",
   "metadata": {},
   "source": [
    "# Base-line\n",
    "\n",
    "### Тетрадь с предварительной обработкой новостей и определение тональности новостей\n",
    "\n",
    "#### Тональность новости обозначается sentiment score и может принимать значения в диапазоне [1 - 5], где\n",
    "\n",
    "* 1: что-то очень негативное относительно компании или дана рекомендация \"продавать\"\n",
    "\n",
    "* 2: что-то скорее негативное, например, вышла отчетность ниже ожиданий, проблемы на каком-нибудь заводе, санкции и пр.\n",
    "\n",
    "* 3: Нейтральная новость. Важно! Если текст\n",
    "\n",
    "> \"Акция выросла на 40% за день\"\n",
    "\n",
    "Считается нейтральной новостью (т.к. цены акций - скорее [мартингал](https://ru.wikipedia.org/wiki/%D0%9C%D0%B0%D1%80%D1%82%D0%B8%D0%BD%D0%B3%D0%B0%D0%BB)).\n",
    "\n",
    "> \"Акция выросла на 40% за день, потому что ...\n",
    "\n",
    "Считается положительной новостью (sentimen\\_score > 3), т.к. есть объяснение\n",
    "\n",
    "* 4: Что-то положительное, например, вышла отчетность выше ожиданий, успехи на каком-нибудь заводе, новый контракт и пр.\n",
    "\n",
    "* 5: Что-то очень положительное или есть рекомендация \"покупать\" или \"входит в подборку нашух супер-акций\""
   ]
  },
  {
   "cell_type": "markdown",
   "id": "e58179b5",
   "metadata": {},
   "source": [
    "## Импорт библиотек"
   ]
  },
  {
   "cell_type": "code",
   "execution_count": 16,
   "id": "43ff20de",
   "metadata": {},
   "outputs": [],
   "source": [
    "import numpy as np\n",
    "import pandas as pd\n",
    "from time import time\n",
    "from tqdm import notebook\n",
    "import os\n",
    "import re"
   ]
  },
  {
   "cell_type": "code",
   "execution_count": 370,
   "id": "d4f661e8",
   "metadata": {},
   "outputs": [],
   "source": [
    "from collections import Counter"
   ]
  },
  {
   "cell_type": "code",
   "execution_count": 24,
   "id": "7b6df5ee",
   "metadata": {},
   "outputs": [],
   "source": [
    "from sklearn.linear_model import LogisticRegression\n",
    "from sklearn.model_selection import cross_val_score\n",
    "from sklearn.model_selection import train_test_split\n",
    "from sklearn.metrics import accuracy_score\n",
    "from sklearn.metrics import f1_score\n",
    "from sklearn.model_selection import GridSearchCV\n",
    "from sklearn.feature_extraction.text import TfidfVectorizer"
   ]
  },
  {
   "cell_type": "code",
   "execution_count": 108,
   "id": "d472af49",
   "metadata": {},
   "outputs": [],
   "source": [
    "import emoji\n",
    "import nltk\n",
    "from nltk.corpus import stopwords as nltk_stopwords\n",
    "from nltk import word_tokenize\n",
    "import string"
   ]
  },
  {
   "cell_type": "code",
   "execution_count": 115,
   "id": "585bd38b",
   "metadata": {},
   "outputs": [
    {
     "name": "stderr",
     "output_type": "stream",
     "text": [
      "[nltk_data] Downloading package stopwords to\n",
      "[nltk_data]     C:\\Users\\iakulov\\AppData\\Roaming\\nltk_data...\n",
      "[nltk_data]   Package stopwords is already up-to-date!\n"
     ]
    }
   ],
   "source": [
    "nltk.download('stopwords')\n",
    "stopwords = set(nltk_stopwords.words('russian'))"
   ]
  },
  {
   "cell_type": "markdown",
   "id": "a825c7b2",
   "metadata": {},
   "source": [
    "## Чтение фалов"
   ]
  },
  {
   "cell_type": "code",
   "execution_count": 10,
   "id": "f35abf28",
   "metadata": {},
   "outputs": [],
   "source": [
    "NOTEBOOK_PATH = os.getcwd()\n",
    "SENTIMENT_PATH = NOTEBOOK_PATH + '\\\\sentiment_dataset' "
   ]
  },
  {
   "cell_type": "code",
   "execution_count": 20,
   "id": "6f5ec46d",
   "metadata": {},
   "outputs": [],
   "source": [
    "data_combined_hackathon = pd.read_csv(f'{SENTIMENT_PATH}\\\\data_combined_hackathon.csv')\n",
    "data = data_combined_hackathon[data_combined_hackathon['MessageText']!=''] \n",
    "data = data.loc[~data.MessageText.isna()]\n",
    "data['uniq_id_message'] = data.ChannelID.astype(str) + data.messageid.astype(str)"
   ]
  },
  {
   "cell_type": "code",
   "execution_count": 21,
   "id": "d37ea98f",
   "metadata": {},
   "outputs": [
    {
     "data": {
      "text/html": [
       "<div>\n",
       "<style scoped>\n",
       "    .dataframe tbody tr th:only-of-type {\n",
       "        vertical-align: middle;\n",
       "    }\n",
       "\n",
       "    .dataframe tbody tr th {\n",
       "        vertical-align: top;\n",
       "    }\n",
       "\n",
       "    .dataframe thead th {\n",
       "        text-align: right;\n",
       "    }\n",
       "</style>\n",
       "<table border=\"1\" class=\"dataframe\">\n",
       "  <thead>\n",
       "    <tr style=\"text-align: right;\">\n",
       "      <th></th>\n",
       "      <th>ChannelID</th>\n",
       "      <th>messageid</th>\n",
       "      <th>issuerid</th>\n",
       "      <th>MessageText</th>\n",
       "      <th>EMITENT_FULL_NAME</th>\n",
       "      <th>BGTicker</th>\n",
       "      <th>OtherTicker</th>\n",
       "      <th>SentimentScore</th>\n",
       "      <th>uniq_id_message</th>\n",
       "    </tr>\n",
       "  </thead>\n",
       "  <tbody>\n",
       "    <tr>\n",
       "      <th>0</th>\n",
       "      <td>1239405989</td>\n",
       "      <td>4486</td>\n",
       "      <td>115</td>\n",
       "      <td>🟢 Новости к этому часу   ⚪️ФРС США необходимо ...</td>\n",
       "      <td>публичное акционерное общество \"НОВАТЭК\"</td>\n",
       "      <td>NVTK RX</td>\n",
       "      <td>NaN</td>\n",
       "      <td>3.0</td>\n",
       "      <td>12394059894486</td>\n",
       "    </tr>\n",
       "  </tbody>\n",
       "</table>\n",
       "</div>"
      ],
      "text/plain": [
       "    ChannelID  messageid  issuerid  \\\n",
       "0  1239405989       4486       115   \n",
       "\n",
       "                                         MessageText  \\\n",
       "0  🟢 Новости к этому часу   ⚪️ФРС США необходимо ...   \n",
       "\n",
       "                          EMITENT_FULL_NAME BGTicker OtherTicker  \\\n",
       "0  публичное акционерное общество \"НОВАТЭК\"  NVTK RX         NaN   \n",
       "\n",
       "   SentimentScore uniq_id_message  \n",
       "0             3.0  12394059894486  "
      ]
     },
     "execution_count": 21,
     "metadata": {},
     "output_type": "execute_result"
    }
   ],
   "source": [
    "data.head(1)"
   ]
  },
  {
   "cell_type": "raw",
   "id": "b73bb9f6",
   "metadata": {},
   "source": [
    "Файл с мапингом навзвания компании и ее id созданные скриптом: mapping_company_name_id"
   ]
  },
  {
   "cell_type": "code",
   "execution_count": 330,
   "id": "325fcba7",
   "metadata": {},
   "outputs": [],
   "source": [
    "df_ticker_id = pd.read_csv(f'{SENTIMENT_PATH}\\\\company_name_id.csv')"
   ]
  },
  {
   "cell_type": "markdown",
   "id": "33d546a4",
   "metadata": {},
   "source": [
    "## Определение компании из новости"
   ]
  },
  {
   "cell_type": "markdown",
   "id": "9fcdfccb",
   "metadata": {},
   "source": [
    "Определение происходит по алгоритму: \n",
    " - Замены всех смайликов, знаков перечисления ('•') на '.'. \n",
    " - Разделение большой новости по предложениям\n",
    " - Разделение предложния на слова и на их основе создание множества слов - X\n",
    " - Поиск слов, которые попали в пересечение множества X и множества Y, где Y - это множество названий компаний из файла company_name_id.csv\n",
    " - Соотношение предложения с компанией и id компании"
   ]
  },
  {
   "cell_type": "code",
   "execution_count": 338,
   "id": "9da79683",
   "metadata": {},
   "outputs": [],
   "source": [
    "_tmp_data = data[['MessageText', 'uniq_id_message']].drop_duplicates()\n",
    "input_list_example = _tmp_data.MessageText.values.tolist()\n",
    "input_list_id_example = _tmp_data.uniq_id_message.values.tolist()\n",
    "del _tmp_data"
   ]
  },
  {
   "cell_type": "code",
   "execution_count": 168,
   "id": "8f5a7e78",
   "metadata": {},
   "outputs": [],
   "source": [
    "punctuation = string.punctuation + \"•«»``''\""
   ]
  },
  {
   "cell_type": "code",
   "execution_count": 169,
   "id": "59569d28",
   "metadata": {},
   "outputs": [
    {
     "data": {
      "text/plain": [
       "'!\"#$%&\\'()*+,-./:;<=>?@[\\\\]^_`{|}~•«»``\\'\\''"
      ]
     },
     "execution_count": 169,
     "metadata": {},
     "output_type": "execute_result"
    }
   ],
   "source": [
    "punctuation"
   ]
  },
  {
   "cell_type": "code",
   "execution_count": 339,
   "id": "e03eff4b",
   "metadata": {},
   "outputs": [
    {
     "data": {
      "application/vnd.jupyter.widget-view+json": {
       "model_id": "aa7b76e35cc94f0185be4711834a12eb",
       "version_major": 2,
       "version_minor": 0
      },
      "text/plain": [
       "  0%|          | 0/7255 [00:00<?, ?it/s]"
      ]
     },
     "metadata": {},
     "output_type": "display_data"
    }
   ],
   "source": [
    "start = time()\n",
    "dict_info_example = {\n",
    "    'uniq_id_message':[],\n",
    "    'news':[],\n",
    "    'tiker': [],\n",
    "    'issuerid':[],\n",
    "}\n",
    "all_list_ticker_issure = df_ticker_id.name.values.tolist()\n",
    "for i, news, messageid in zip(notebook.tqdm(range(len(input_list_example))),input_list_example, input_list_id_example):\n",
    "    news = emoji.replace_emoji(news, replace=' . ')\n",
    "    news = re.sub(r'http\\S+', '', news)\n",
    "    news = re.sub(r'.ru\\S+', '', news)\n",
    "    \n",
    "    all_info_news = [word for word in word_tokenize(news) if (word not in punctuation) and (word not in stopwords)]\n",
    "    list_to_set = all_info_news+ list(map(lambda x: x.upper(), all_info_news)) + list(map(lambda x: x[:-1], all_info_news))\n",
    "#     print(all_info_news)\n",
    "    for union_tickers in list(set(list_to_set) & set(all_list_ticker_issure)):\n",
    "#         print(union_tickers)\n",
    "        for index_word, word in enumerate(all_info_news):\n",
    "            if (union_tickers.upper() in word.upper()) or (union_tickers.upper() in word.upper()[:-1]):\n",
    "                if index_word < 10:\n",
    "                    news_str = all_info_news[:index_word+10]\n",
    "                elif index_word == len(all_info_news):\n",
    "                    news_str = all_info_news[index_word-10:]\n",
    "                else:\n",
    "                    news_str = all_info_news[index_word-5:index_word+5]\n",
    "                issuerid = df_ticker_id.loc[df_ticker_id.name == union_tickers]['issuerid'].values.tolist()[0]\n",
    "                dict_info_example['news'].append(' '.join(news_str))\n",
    "                dict_info_example['tiker'].append(union_tickers)\n",
    "                dict_info_example['uniq_id_message'].append(messageid)\n",
    "                dict_info_example['issuerid'].append(issuerid)\n",
    "# print(dict_info_example)\n",
    "df_markup_news = pd.DataFrame.from_dict(dict_info_example).drop_duplicates().reset_index(drop=True)"
   ]
  },
  {
   "cell_type": "code",
   "execution_count": 340,
   "id": "520e5377",
   "metadata": {},
   "outputs": [
    {
     "data": {
      "text/plain": [
       "7255"
      ]
     },
     "execution_count": 340,
     "metadata": {},
     "output_type": "execute_result"
    }
   ],
   "source": [
    "len(input_list_example)"
   ]
  },
  {
   "cell_type": "code",
   "execution_count": 341,
   "id": "c1937fe5",
   "metadata": {},
   "outputs": [
    {
     "data": {
      "text/plain": [
       "7062"
      ]
     },
     "execution_count": 341,
     "metadata": {},
     "output_type": "execute_result"
    }
   ],
   "source": [
    "len(df_markup_news.uniq_id_message.unique())"
   ]
  },
  {
   "cell_type": "code",
   "execution_count": 342,
   "id": "b7d86e89",
   "metadata": {},
   "outputs": [],
   "source": [
    "df_news_sent = data[['uniq_id_message', 'SentimentScore']].rename(columns={'SentimentScore': 'sentiment'}).merge(df_markup_news,\n",
    "                                                                                                 how='inner', \n",
    "                                                                                                 on='uniq_id_message').drop_duplicates().reset_index(drop=True).copy()"
   ]
  },
  {
   "cell_type": "code",
   "execution_count": 343,
   "id": "474b524b",
   "metadata": {},
   "outputs": [
    {
     "data": {
      "text/html": [
       "<div>\n",
       "<style scoped>\n",
       "    .dataframe tbody tr th:only-of-type {\n",
       "        vertical-align: middle;\n",
       "    }\n",
       "\n",
       "    .dataframe tbody tr th {\n",
       "        vertical-align: top;\n",
       "    }\n",
       "\n",
       "    .dataframe thead th {\n",
       "        text-align: right;\n",
       "    }\n",
       "</style>\n",
       "<table border=\"1\" class=\"dataframe\">\n",
       "  <thead>\n",
       "    <tr style=\"text-align: right;\">\n",
       "      <th></th>\n",
       "      <th>uniq_id_message</th>\n",
       "      <th>sentiment</th>\n",
       "      <th>news</th>\n",
       "      <th>tiker</th>\n",
       "      <th>issuerid</th>\n",
       "    </tr>\n",
       "  </thead>\n",
       "  <tbody>\n",
       "    <tr>\n",
       "      <th>0</th>\n",
       "      <td>12394059894486</td>\n",
       "      <td>3.0</td>\n",
       "      <td>ограничить экспорт технологий КНР Bloomberg НО...</td>\n",
       "      <td>НОВАТЭ</td>\n",
       "      <td>115</td>\n",
       "    </tr>\n",
       "    <tr>\n",
       "      <th>1</th>\n",
       "      <td>12394059894486</td>\n",
       "      <td>3.0</td>\n",
       "      <td>объявила банкротстве вслед FTX Bloomberg NVTK</td>\n",
       "      <td>NVTK</td>\n",
       "      <td>115</td>\n",
       "    </tr>\n",
       "  </tbody>\n",
       "</table>\n",
       "</div>"
      ],
      "text/plain": [
       "  uniq_id_message  sentiment  \\\n",
       "0  12394059894486        3.0   \n",
       "1  12394059894486        3.0   \n",
       "\n",
       "                                                news   tiker  issuerid  \n",
       "0  ограничить экспорт технологий КНР Bloomberg НО...  НОВАТЭ       115  \n",
       "1      объявила банкротстве вслед FTX Bloomberg NVTK    NVTK       115  "
      ]
     },
     "execution_count": 343,
     "metadata": {},
     "output_type": "execute_result"
    }
   ],
   "source": [
    "df_news_sent.head(2)"
   ]
  },
  {
   "cell_type": "code",
   "execution_count": 345,
   "id": "0a96bff6",
   "metadata": {},
   "outputs": [],
   "source": [
    "df_news_sent = df_news_sent.drop_duplicates(['uniq_id_message', 'sentiment', 'news', 'issuerid'])"
   ]
  },
  {
   "cell_type": "code",
   "execution_count": 348,
   "id": "11db874b",
   "metadata": {},
   "outputs": [],
   "source": [
    "df_join_news = df_news_sent.groupby(['uniq_id_message', 'issuerid'], as_index=False).apply(lambda x: ' '.join(x['news'].values.tolist())).copy()\n",
    "df_join_news = df_join_news.rename(columns={None:'join_news'})"
   ]
  },
  {
   "cell_type": "code",
   "execution_count": 390,
   "id": "7bb7154b",
   "metadata": {},
   "outputs": [],
   "source": [
    "df_join_news_sent = df_join_news.merge(df_news_sent[['uniq_id_message', \n",
    "                                 'sentiment', \n",
    "                                 'tiker', \n",
    "                                 'issuerid']], \n",
    "                   how='inner', \n",
    "                   on=['uniq_id_message','issuerid']).drop_duplicates().reset_index(drop=True).copy()"
   ]
  },
  {
   "cell_type": "code",
   "execution_count": 391,
   "id": "d9a3766f",
   "metadata": {},
   "outputs": [],
   "source": [
    "df_join_news_sent = df_join_news_sent.reset_index()"
   ]
  },
  {
   "cell_type": "code",
   "execution_count": 392,
   "id": "c7712cab",
   "metadata": {},
   "outputs": [],
   "source": [
    "df_join_news_sent['join_news'] = df_join_news_sent['join_news'].apply(lambda x: \" \".join(Counter(x.split(' ')).keys()) )"
   ]
  },
  {
   "cell_type": "markdown",
   "id": "d74f34c8",
   "metadata": {},
   "source": [
    "## Обучение модели"
   ]
  },
  {
   "cell_type": "code",
   "execution_count": 273,
   "id": "f87ea7a5",
   "metadata": {},
   "outputs": [],
   "source": [
    "def calculate_metriks(pred, target) -> dict:\n",
    "    accuracy = accuracy_score(pred, target)\n",
    "    f1 = f1_score(pred, target, average='macro')\n",
    "    team_score = 100 * (0.5*f1 + 0.5*accuracy)\n",
    "    \n",
    "    return {'accuracy':accuracy,\n",
    "           'f1':f1,\n",
    "           'team_score':team_score}"
   ]
  },
  {
   "cell_type": "markdown",
   "id": "0efcd968",
   "metadata": {},
   "source": [
    "### Векторизация"
   ]
  },
  {
   "cell_type": "code",
   "execution_count": 39,
   "id": "37356a64",
   "metadata": {},
   "outputs": [
    {
     "name": "stderr",
     "output_type": "stream",
     "text": [
      "[nltk_data] Error loading stopwords: <urlopen error [WinError 10060]\n",
      "[nltk_data]     Попытка установить соединение была безуспешной, т.к.\n",
      "[nltk_data]     от другого компьютера за требуемое время не получен\n",
      "[nltk_data]     нужный отклик, или было разорвано уже установленное\n",
      "[nltk_data]     соединение из-за неверного отклика уже подключенного\n",
      "[nltk_data]     компьютера>\n"
     ]
    }
   ],
   "source": [
    "nltk.download('stopwords')\n",
    "stopwords = set(nltk_stopwords.words('russian'))"
   ]
  },
  {
   "cell_type": "raw",
   "id": "a2368210",
   "metadata": {},
   "source": [
    "Разбиение на обучающую и тестовую выборку"
   ]
  },
  {
   "cell_type": "code",
   "execution_count": 393,
   "id": "65eacda9",
   "metadata": {},
   "outputs": [],
   "source": [
    "df_train = df_join_news_sent.sample(frac=0.8).copy()\n",
    "df_test = df_join_news_sent.loc[~df_join_news_sent['index'].isin(df_train['index'].values.tolist())]"
   ]
  },
  {
   "cell_type": "code",
   "execution_count": 394,
   "id": "f320dd71",
   "metadata": {},
   "outputs": [],
   "source": [
    "corpus = df_train['join_news'].values.astype('U')"
   ]
  },
  {
   "cell_type": "code",
   "execution_count": 395,
   "id": "1b2394d7",
   "metadata": {},
   "outputs": [],
   "source": [
    "X, y = corpus, df_train.sentiment"
   ]
  },
  {
   "cell_type": "code",
   "execution_count": 396,
   "id": "27ff33de",
   "metadata": {},
   "outputs": [],
   "source": [
    "max_ind = 0\n",
    "max_len = 0\n",
    "max_str = ''\n",
    "\n",
    "for ind, i in enumerate(X):\n",
    "    if len(i) > max_len:\n",
    "        max_len = len(i)\n",
    "        max_ind = ind\n",
    "        max_str = i"
   ]
  },
  {
   "cell_type": "code",
   "execution_count": 397,
   "id": "5c3b3049",
   "metadata": {},
   "outputs": [],
   "source": [
    "count_tf_idf = TfidfVectorizer(stop_words=stopwords)"
   ]
  },
  {
   "cell_type": "code",
   "execution_count": 398,
   "id": "6ab3f72b",
   "metadata": {},
   "outputs": [],
   "source": [
    "tf_idf = count_tf_idf.fit_transform(X)"
   ]
  },
  {
   "cell_type": "code",
   "execution_count": 399,
   "id": "28a2d1f9",
   "metadata": {},
   "outputs": [
    {
     "data": {
      "text/plain": [
       "(20798, 19808)"
      ]
     },
     "execution_count": 399,
     "metadata": {},
     "output_type": "execute_result"
    }
   ],
   "source": [
    "tf_idf.shape"
   ]
  },
  {
   "cell_type": "code",
   "execution_count": 404,
   "id": "9b4f5378",
   "metadata": {},
   "outputs": [],
   "source": [
    "X_train, X_test, y_train, y_test = train_test_split(tf_idf, y, test_size=0.2)"
   ]
  },
  {
   "cell_type": "markdown",
   "id": "093bbdf9",
   "metadata": {},
   "source": [
    "### Обучение логистической регресии с перебором гиперпараметров"
   ]
  },
  {
   "cell_type": "code",
   "execution_count": 405,
   "id": "0e20c282",
   "metadata": {},
   "outputs": [],
   "source": [
    "param_grid = {'C': np.arange(1e-03, 2, 0.01)} # hyper-parameter list to fine-tune\n",
    "log_gs = GridSearchCV(LogisticRegression(solver='liblinear', # setting GridSearchCV\n",
    "                                         class_weight=\"balanced\", \n",
    "                                         random_state=7),\n",
    "                      return_train_score=True,\n",
    "                      param_grid=param_grid,\n",
    "                      scoring='accuracy',\n",
    "                      cv=10)"
   ]
  },
  {
   "cell_type": "code",
   "execution_count": 406,
   "id": "74042c85",
   "metadata": {},
   "outputs": [],
   "source": [
    "log_grid = log_gs.fit(X_train, y_train)"
   ]
  },
  {
   "cell_type": "code",
   "execution_count": 407,
   "id": "5a0589f0",
   "metadata": {},
   "outputs": [],
   "source": [
    "log_opt = log_grid.best_estimator_\n",
    "results = log_gs.cv_results_"
   ]
  },
  {
   "cell_type": "code",
   "execution_count": 408,
   "id": "ea7656ed",
   "metadata": {},
   "outputs": [
    {
     "data": {
      "text/plain": [
       "LogisticRegression(C=1.9909999999999997, class_weight='balanced',\n",
       "                   random_state=7, solver='liblinear')"
      ]
     },
     "execution_count": 408,
     "metadata": {},
     "output_type": "execute_result"
    }
   ],
   "source": [
    "log_opt.fit(X_train, y_train)"
   ]
  },
  {
   "cell_type": "code",
   "execution_count": 409,
   "id": "2e013c1e",
   "metadata": {},
   "outputs": [
    {
     "data": {
      "text/plain": [
       "0.7638538285851665"
      ]
     },
     "execution_count": 409,
     "metadata": {},
     "output_type": "execute_result"
    }
   ],
   "source": [
    "log_opt.score(X_train, y_train)"
   ]
  },
  {
   "cell_type": "code",
   "execution_count": 410,
   "id": "a0a0012c",
   "metadata": {},
   "outputs": [],
   "source": [
    "res_test_df = log_opt.predict(X_test) #log_reg.predict(X_test)"
   ]
  },
  {
   "cell_type": "code",
   "execution_count": 411,
   "id": "38133745",
   "metadata": {},
   "outputs": [
    {
     "data": {
      "text/plain": [
       "{'accuracy': 0.5875, 'f1': 0.5093663130477694, 'team_score': 54.84331565238847}"
      ]
     },
     "execution_count": 411,
     "metadata": {},
     "output_type": "execute_result"
    }
   ],
   "source": [
    "calculate_metriks(pred=res_test_df, target=y_test)"
   ]
  },
  {
   "cell_type": "markdown",
   "id": "1726a1b4",
   "metadata": {},
   "source": [
    "## Тест модели"
   ]
  },
  {
   "cell_type": "code",
   "execution_count": 412,
   "id": "ebf1b069",
   "metadata": {},
   "outputs": [],
   "source": [
    "corpus_for_test = df_test['join_news'].values.astype('U')"
   ]
  },
  {
   "cell_type": "code",
   "execution_count": 413,
   "id": "b9660218",
   "metadata": {},
   "outputs": [],
   "source": [
    "X_for_test = count_tf_idf.transform(corpus_for_test)"
   ]
  },
  {
   "cell_type": "code",
   "execution_count": 414,
   "id": "029c6aa0",
   "metadata": {},
   "outputs": [],
   "source": [
    "test_pred = log_opt.predict(X_for_test)"
   ]
  },
  {
   "cell_type": "code",
   "execution_count": 419,
   "id": "57c15476",
   "metadata": {},
   "outputs": [],
   "source": [
    "test_target = df_test.sentiment.values.tolist()"
   ]
  },
  {
   "cell_type": "code",
   "execution_count": 420,
   "id": "25394dec",
   "metadata": {},
   "outputs": [
    {
     "data": {
      "text/plain": [
       "{'accuracy': 0.5905769230769231,\n",
       " 'f1': 0.5069623608869254,\n",
       " 'team_score': 54.876964198192425}"
      ]
     },
     "execution_count": 420,
     "metadata": {},
     "output_type": "execute_result"
    }
   ],
   "source": [
    "calculate_metriks(pred=test_pred, target=test_target)"
   ]
  }
 ],
 "metadata": {
  "kernelspec": {
   "display_name": "Python 3",
   "language": "python",
   "name": "python3"
  },
  "language_info": {
   "codemirror_mode": {
    "name": "ipython",
    "version": 3
   },
   "file_extension": ".py",
   "mimetype": "text/x-python",
   "name": "python",
   "nbconvert_exporter": "python",
   "pygments_lexer": "ipython3",
   "version": "3.8.8"
  }
 },
 "nbformat": 4,
 "nbformat_minor": 5
}
